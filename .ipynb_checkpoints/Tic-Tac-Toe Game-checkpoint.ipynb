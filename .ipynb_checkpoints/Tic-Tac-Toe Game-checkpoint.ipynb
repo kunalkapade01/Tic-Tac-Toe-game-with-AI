{
 "cells": [
  {
   "cell_type": "markdown",
   "metadata": {},
   "source": [
    "# 𝐓𝐢𝐜-𝐓𝐚𝐜-𝐓𝐨𝐞 𝐆𝐚𝐦𝐞 𝐰𝐢𝐭𝐡 𝐀𝐈 :"
   ]
  },
  {
   "cell_type": "code",
   "execution_count": 1,
   "metadata": {},
   "outputs": [],
   "source": [
    "# Lets take all this function to play the Tic-Tac-Toe game with AI:-"
   ]
  },
  {
   "cell_type": "markdown",
   "metadata": {},
   "source": [
    "- 𝐩𝐫𝐢𝐧𝐭 𝐭𝐡𝐞 𝐛𝐨𝐚𝐫𝐝 :- print_board(board)\n",
    "\n",
    "- 𝐓𝐨 𝐜𝐡𝐞𝐜𝐤 𝐭𝐡𝐞 𝐰𝐢𝐧𝐧𝐞𝐫 :- is_winner()\n",
    "\n",
    "- 𝐓𝐨 𝐜𝐡𝐞𝐜𝐤 𝐟𝐨𝐫 𝐭𝐢𝐞 :- is_board_full()\n",
    "\n",
    "- 𝐓𝐨 𝐠𝐞𝐭 𝐭𝐡𝐞 𝐩𝐥𝐚𝐜𝐞 𝐨𝐟 𝐞𝐦𝐩𝐭𝐲 𝐜𝐞𝐥𝐥 :- get_empty_cell()\n",
    "\n",
    "- 𝐅𝐨𝐫 𝐜𝐡𝐞𝐜𝐤 𝐭𝐡𝐞 𝐨𝐩𝐭𝐢𝐦𝐢𝐳𝐞𝐝 𝐦𝐨𝐯𝐞 :- Minmax()\n",
    "\n",
    "- 𝐓𝐨 𝐦𝐨𝐯𝐞 𝐨𝐧 𝐚𝐜𝐭𝐮𝐚𝐥 𝐛𝐨𝐚𝐫𝐝 :- best_move()\n",
    "\n",
    "- 𝐓𝐨 𝐩𝐥𝐚𝐲 𝐭𝐡𝐞 𝐠𝐚𝐦𝐞 :- main()"
   ]
  },
  {
   "cell_type": "code",
   "execution_count": 2,
   "metadata": {},
   "outputs": [],
   "source": [
    "# Print the board:\n",
    "def print_board(board):\n",
    "    for row in board:\n",
    "        print(\" | \".join(row))\n",
    "        print('-'*9)"
   ]
  },
  {
   "cell_type": "code",
   "execution_count": 3,
   "metadata": {},
   "outputs": [],
   "source": [
    "# To check if there is a winner:\n",
    "def is_winner(board, player):\n",
    "    for row in board:\n",
    "        if all(cell == player for cell in row):\n",
    "            return True\n",
    "        \n",
    "    for col in range(3):\n",
    "         if all(row[col] == player for row in board):\n",
    "            return True\n",
    "        \n",
    "    if all(board[i][i]==player for i in range(3)) or all(board[i][2-i]==player for i in range(3)):\n",
    "        return True\n",
    "    \n",
    "    return False"
   ]
  },
  {
   "cell_type": "code",
   "execution_count": 4,
   "metadata": {},
   "outputs": [],
   "source": [
    "# To check if the game is Tie:\n",
    "def is_board_full(board):\n",
    "    return all(cell != \" \" for row in board for cell in row)"
   ]
  },
  {
   "cell_type": "code",
   "execution_count": 5,
   "metadata": {},
   "outputs": [],
   "source": [
    "# To get the index of an empty cell on the board:\n",
    "def get_empty_cell(board):\n",
    "    return [(i, j) for i in range(3) for j in range(3) if board[i][j] == \" \"]"
   ]
  },
  {
   "cell_type": "code",
   "execution_count": 6,
   "metadata": {},
   "outputs": [],
   "source": [
    "# To find the best and optimized move using the Minimax algorithm:\n",
    "def minmax(board, depth, is_maximizer):\n",
    "    if is_winner(board, \"O\"):\n",
    "        return 1\n",
    "    \n",
    "    elif is_winner(board, \"X\"):\n",
    "        return -1\n",
    "    \n",
    "    elif is_board_full(board):\n",
    "        return 0\n",
    "    \n",
    "    if is_maximizer:\n",
    "        max_eval = float(\"-infinity\")\n",
    "        \n",
    "        for i, j in get_empty_cell(board):\n",
    "            board[i][j] = \"O\"\n",
    "            eval = minmax(board, depth+1, False)\n",
    "            board[i][j] = \" \"\n",
    "            max_eval = max(max_eval, eval)\n",
    "        return max_eval\n",
    "    \n",
    "    else:\n",
    "        min_eval = float(\"infinity\")\n",
    "        for i, j in get_empty_cell(board):\n",
    "            board[i][j] = \"X\"\n",
    "            eval = minmax(board, depth+1, True)\n",
    "            board[i][j] = \" \"\n",
    "            min_eval = min(min_eval, eval)\n",
    "        return min_eval\n",
    "    "
   ]
  },
  {
   "cell_type": "code",
   "execution_count": 7,
   "metadata": {},
   "outputs": [],
   "source": [
    "# To make the best move on the actual board:\n",
    "def best_move(board):\n",
    "    best_val = float(\"-infinity\")\n",
    "    best_move = None\n",
    "    \n",
    "    for i, j in get_empty_cell(board):\n",
    "        board[i][j] = \"O\"\n",
    "        move_val = minmax(board, 0, False)\n",
    "        board[i][j] = \" \"\n",
    "        \n",
    "        if move_val > best_val:\n",
    "            best_move = (i, j)\n",
    "            best_val = move_val\n",
    "        \n",
    "    return best_move"
   ]
  },
  {
   "cell_type": "code",
   "execution_count": 8,
   "metadata": {},
   "outputs": [],
   "source": [
    "# Lets,play the Tic-Tac-Toe game with AI:-\n",
    "def main():\n",
    "    board = [[\" \" for _ in range(3)] for _ in range(3)]\n",
    "    \n",
    "    while True:\n",
    "        print_board(board)\n",
    "        \n",
    "        row = int(input(\"Your turn:- Enter the row index (0,1,2): \"))\n",
    "        col = int(input(\"Your turn:- Enter the col index (0,1,2): \"))\n",
    "        \n",
    "        if board[row][col] == \" \":\n",
    "            board[row][col] = \"X\"\n",
    "            \n",
    "        else:\n",
    "            print(\"This cell is alredy taken, Try again!!!\")\n",
    "            continue\n",
    "            \n",
    "        if is_winner(board, \"X\"):\n",
    "            print_board(board)\n",
    "            print(\"congratulation!, you win!\")\n",
    "            break \n",
    "            \n",
    "        elif is_board_full(board):\n",
    "            print_board(board)\n",
    "            print(\"ohhh It's a Tie!\")\n",
    "            break\n",
    "            \n",
    "        print_board(board)\n",
    "        \n",
    "        print(\"AI is thinking...\")\n",
    "        ai_row, ai_col = best_move(board)\n",
    "        board[ai_row][ai_col] = \"O\"\n",
    "        \n",
    "        if is_winner(board, \"O\"):\n",
    "            print_board(board)\n",
    "            print(\"AI wins better luck next time!!!\")\n",
    "            break\n",
    "            \n",
    "        elif is_board_full(board):\n",
    "            print_board(board)\n",
    "            print(\"ohh its a tie, Let's play again!\")\n",
    "            break"
   ]
  },
  {
   "cell_type": "code",
   "execution_count": null,
   "metadata": {},
   "outputs": [
    {
     "name": "stdout",
     "output_type": "stream",
     "text": [
      "  |   |  \n",
      "---------\n",
      "  |   |  \n",
      "---------\n",
      "  |   |  \n",
      "---------\n",
      "Your turn:- Enter the row index (0,1,2): 1\n",
      "Your turn:- Enter the col index (0,1,2): 1\n",
      "  |   |  \n",
      "---------\n",
      "  | X |  \n",
      "---------\n",
      "  |   |  \n",
      "---------\n",
      "AI is thinking...\n",
      "O |   |  \n",
      "---------\n",
      "  | X |  \n",
      "---------\n",
      "  |   |  \n",
      "---------\n",
      "Your turn:- Enter the row index (0,1,2): 0\n",
      "Your turn:- Enter the col index (0,1,2): 1\n",
      "O | X |  \n",
      "---------\n",
      "  | X |  \n",
      "---------\n",
      "  |   |  \n",
      "---------\n",
      "AI is thinking...\n",
      "O | X |  \n",
      "---------\n",
      "  | X |  \n",
      "---------\n",
      "  | O |  \n",
      "---------\n",
      "Your turn:- Enter the row index (0,1,2): 1\n",
      "Your turn:- Enter the col index (0,1,2): 0\n",
      "O | X |  \n",
      "---------\n",
      "X | X |  \n",
      "---------\n",
      "  | O |  \n",
      "---------\n",
      "AI is thinking...\n",
      "O | X |  \n",
      "---------\n",
      "X | X | O\n",
      "---------\n",
      "  | O |  \n",
      "---------\n"
     ]
    }
   ],
   "source": [
    "if __name__ == \"__main__\":\n",
    "    main()"
   ]
  },
  {
   "cell_type": "code",
   "execution_count": null,
   "metadata": {},
   "outputs": [],
   "source": []
  },
  {
   "cell_type": "code",
   "execution_count": null,
   "metadata": {},
   "outputs": [],
   "source": []
  },
  {
   "cell_type": "code",
   "execution_count": null,
   "metadata": {},
   "outputs": [],
   "source": []
  }
 ],
 "metadata": {
  "kernelspec": {
   "display_name": "Python 3 (ipykernel)",
   "language": "python",
   "name": "python3"
  },
  "language_info": {
   "codemirror_mode": {
    "name": "ipython",
    "version": 3
   },
   "file_extension": ".py",
   "mimetype": "text/x-python",
   "name": "python",
   "nbconvert_exporter": "python",
   "pygments_lexer": "ipython3",
   "version": "3.11.5"
  }
 },
 "nbformat": 4,
 "nbformat_minor": 4
}
